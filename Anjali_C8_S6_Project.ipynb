{
 "cells": [
  {
   "cell_type": "code",
   "execution_count": 1,
   "id": "b719f6b5-fc95-4750-aa6b-d199618dc3b4",
   "metadata": {},
   "outputs": [],
   "source": [
    "import  pandas as pd\n",
    "import numpy as np\n",
    "import matplotlib.pyplot as plt\n",
    "import seaborn as sns\n",
    "from scipy.stats import norm\n",
    "import math\n",
    "from scipy.stats import t\n"
   ]
  },
  {
   "cell_type": "code",
   "execution_count": 2,
   "id": "1f23dfaa-ae5f-4736-9f5a-ba9977c746b8",
   "metadata": {},
   "outputs": [
    {
     "name": "stdout",
     "output_type": "stream",
     "text": [
      "False\n",
      "False\n"
     ]
    }
   ],
   "source": [
    "#Task1\n",
    "\n",
    "# z_test with\n",
    "\n",
    "# H0:mu<=221.5\n",
    "# H1:mu>221.5\n",
    "\n",
    "import math\n",
    "from scipy.stats import norm\n",
    "\n",
    "\n",
    "mu = 221.3  # Population mean\n",
    "sample_mean = 222.2  # Sample mean\n",
    "sigma = 74.83  # Population standard deviation\n",
    "n = 40  # Sample size\n",
    "alpha = 0.05  # Significance level\n",
    "\n",
    "# Calculate the z-statistic\n",
    "z_stat = (sample_mean - mu) / (sigma / math.sqrt(n))\n",
    "\n",
    "# Find the critical z-value for a one-tailed test at alpha = 0.05\n",
    "z_crit = norm.ppf(1 - alpha)\n",
    "\n",
    "# Calculate the p-value\n",
    "p_value = norm.sf(abs(z_stat))\n",
    "\n",
    "\n",
    "#decision\n",
    "print(p_value<alpha)\n",
    "\n",
    "print(-z_crit>z_stat)\n",
    "\n",
    "\n",
    "# If p-value < α: Rejection of Null Hypothesis(H0)\n",
    "# if-z-critical > z-statistics > +z-critical: Rejection of Null Hypothesis(H0)\n",
    "\n",
    "# (or)\n",
    "\n",
    "# If p-value > α: Accept the  Null Hypothesis(H0)\n",
    "# # if-z-critical < z-statistics < +z-critical: Accept Null Hypothesis(H0)\n",
    "\n",
    "\n",
    "# Conclusion:  reject the null hypothesis \n",
    "\n",
    " \n",
    "\n",
    "#Business Conclusion:-\n",
    "\n",
    "# data does not provide enough evidence to conclude that the average advertising budget for premium computers.\n",
    "\n"
   ]
  },
  {
   "cell_type": "code",
   "execution_count": 23,
   "id": "f36feed4-ed20-455d-9f6d-98fc7456db5f",
   "metadata": {},
   "outputs": [
    {
     "name": "stdout",
     "output_type": "stream",
     "text": [
      "Average price with CD: 2342.6055708390645\n",
      "Average price without CD: 2112.8119964189796\n",
      "Standard deviation with CD: 527.447791950526\n",
      "Standard deviation without CD: 603.4942370862724\n",
      "Sample size with CD: 2908\n",
      "Sample size without CD: 3351\n",
      "Z-statistic: -5.749933977428078\n",
      "Critical z-value: 1.959963984540054\n",
      "P-value: 8.927830561872393e-09\n",
      "True\n",
      "False\n"
     ]
    },
    {
     "data": {
      "image/png": "[encoded data removed]",
      "text/plain": [
       "<Figure size 640x480 with 1 Axes>"
      ]
     },
     "metadata": {},
     "output_type": "display_data"
    }
   ],
   "source": [
    "# Task2\n",
    "\n",
    "df=pd.read_csv(\"DS1_C8_Computers_Data_Project (2).csv\")\n",
    "\n",
    "#Two Tailed z_test\n",
    "\n",
    "alpha = 0.025 #(5/200  # because of two tailed test)\n",
    "\n",
    "pop_mean = df['price'].mean() # mu1-mu2 same it be '0'\n",
    "\n",
    "df_cd1 = df[df['cd']=='yes']['price']\n",
    "\n",
    "df_cd2 = df[df['cd']=='no']['price']\n",
    "\n",
    "avg_price_cd1 = df_cd1.mean()\n",
    "\n",
    "avg_price_cd2 =  df_cd2.mean()\n",
    "\n",
    "std_cd1 = df_cd1.std()\n",
    "\n",
    "std_cd2 = df_cd2.std()\n",
    "\n",
    "n_cd1 = len(df_cd1)\n",
    "\n",
    "n_cd2 = len(df_cd2)\n",
    "\n",
    "stat_dem = (avg_price_cd1-avg_price_cd2)\n",
    "\n",
    "stat_num = math.sqrt((std_cd1 ** 2 / n_cd1) + (std_cd2 ** 2 / n_cd2))  \n",
    "\n",
    "z_stats =stat_num/stat_dem\n",
    "\n",
    "z_crit = norm.ppf(1 - alpha)\n",
    "\n",
    "# p-value*2 because of two tailed\n",
    "\n",
    "p_value = 2 * norm.sf(abs(z_stat))\n",
    "\n",
    "\n",
    "print(\"Average price with CD:\",avg_price_cd1)\n",
    "print(\"Average price without CD:\",avg_price_cd2)\n",
    "print(\"Standard deviation with CD:\",std_cd1)\n",
    "print(\"Standard deviation without CD:\",std_cd2)\n",
    "print(\"Sample size with CD:\",n_cd1)\n",
    "print(\"Sample size without CD:\",n_cd2)\n",
    "print(\"Z-statistic:\",z_stat)\n",
    "print(\"Critical z-value:\",z_crit)\n",
    "print(\"P-value:\",p_value)\n",
    "\n",
    "decision= p_value<alpha\n",
    "print(decision)\n",
    "decision2= z_stats>z_crit\n",
    "print(decision2)\n",
    "\n",
    "\n",
    "\n",
    "upper_value_with_cd =avg_price_cd1+(4*std_cd1)\n",
    "lower_value_with_cd =avg_price_cd1-(4*std_cd1)\n",
    "\n",
    "\n",
    "x=np.arange(lower_value_with_cd,upper_value_with_cd)\n",
    "len(x)\n",
    "\n",
    "upper_value_without_cd = avg_price_cd2+(4*std_cd2)\n",
    "lower_value_without_cd = avg_price_cd2-(4*std_cd2)\n",
    "\n",
    "y=np.arange(lower_value_without_cd,upper_value_without_cd)\n",
    "len(y)\n",
    "\n",
    "\n",
    "with_cd_t_value = t.pdf(x,9)\n",
    "without_cd_t_value = t.pdf(y,9)\n",
    "\n",
    "\n",
    "plt.plot(x,with_cd_t_value )\n",
    "plt.plot(y,without_cd_t_value)\n",
    "plt.title('price_with_cd_and_without_cd')\n",
    "plt.xlabel('Price')\n",
    "plt.ylabel('Probability Density')\n",
    "plt.show()\n",
    "\n",
    "\n",
    "# If p-value < α: Rejection of Null Hypothesis(H0)\n",
    "# if-z-critical > z-statistics > +z-critical: Rejection of Null Hypothesis(H0)\n",
    "\n",
    "# (or)\n",
    "\n",
    "# If p-value > α: Accept the  Null Hypothesis(H0)\n",
    "# # if-z-critical < z-statistics < +z-critical: Accept Null Hypothesis(H0)\n",
    "\n",
    "# Conclusion: Rejection of Null Hypothesis(H0)\n",
    "\n",
    "# Business Conclusion:Average price with CD:  2342.6055708390645  &Average price without CD: 2112.8119964189796 having difference\n",
    "\n"
   ]
  },
  {
   "cell_type": "code",
   "execution_count": 32,
   "id": "9b18bccc-59fa-444c-a4f8-9d83b3a367cc",
   "metadata": {},
   "outputs": [
    {
     "name": "stdout",
     "output_type": "stream",
     "text": [
      "p-value: 0.4465629319350324\n",
      "Conclusion:  reject null hypothesis\n"
     ]
    },
    {
     "data": {
      "image/png": "[encoded data removed]",
      "text/plain": [
       "<Figure size 640x480 with 1 Axes>"
      ]
     },
     "metadata": {},
     "output_type": "display_data"
    }
   ],
   "source": [
    "# Task3(a)\n",
    "\n",
    "#H0:mu = 2200\n",
    "\n",
    "#H1:mu! = 2200\n",
    "\n",
    "df=pd.read_csv(\"DS1_C8_Computers_Data_Project (2).csv\")\n",
    "\n",
    "alpha = 5/200    # two tailed one sample\n",
    "\n",
    "sample_size_computers =25 # n\n",
    "\n",
    "dof=n-1\n",
    "#one sample two tailed\n",
    "\n",
    "#  ( 𝑥̅- µ) / (s/√n)\n",
    "\n",
    "avg_price_pop =df['price'].mean() # population avg\n",
    "\n",
    "df_premium = df[df['premium']=='yes']['price']\n",
    "\n",
    "avg_price_premium = df_premium.mean() # xbar\n",
    "\n",
    "std_price_premium =df_premium.std() # standard devation\n",
    "\n",
    "t_stat= (avg_price_premium-avg_price_pop)/(std_price_premium/(sample_size_computers)**0.5)\n",
    "\n",
    "p_value_comp = t.sf(abs(t_stat),dof)\n",
    "\n",
    "t_criti=t.ppf((1-alpha),dof)\n",
    "\n",
    "\n",
    "print(\"p-value:\", p_value_comp)\n",
    "print(\"Conclusion: Reject null hypothesis\" if p_value_comp < alpha else \"Conclusion:  reject null hypothesis\")\n",
    "\n",
    "b=-t_criti > t_stat \n",
    "#print(b)\n",
    "\n",
    "\n",
    "upper_value_premium =avg_price_premium+(4*std_price_premium)\n",
    "lower_value_premium =avg_price_premium-(4*std_price_premium)\n",
    "\n",
    "\n",
    "x=np.arange(lower_value_premium,upper_value_premium)\n",
    "len(x)\n",
    "\n",
    "premium_t_value = t.pdf(x,10)\n",
    "\n",
    "plt.plot(x,premium_t_value )\n",
    "plt.title(\"price_with_premium\")\n",
    "plt.xlabel('Price')\n",
    "plt.ylabel('Probability Density')\n",
    "plt.show()\n",
    "\n",
    "\n",
    "# Conclusion:Reject The null Hypothesis\n",
    "\n",
    "# Business Conclusion:avg price of premium computers of different of popualtion of avg price"
   ]
  },
  {
   "cell_type": "code",
   "execution_count": 5,
   "id": "7a7fb498-dfa2-4f71-b85e-a2c7a9b3426b",
   "metadata": {},
   "outputs": [
    {
     "data": {
      "text/plain": [
       "-0.1352296439464886"
      ]
     },
     "execution_count": 5,
     "metadata": {},
     "output_type": "execute_result"
    }
   ],
   "source": [
    "t_stat= (avg_price_premium-avg_price_pop)/(std_price_premium/(sample_size_computers)**0.5)\n",
    "t_stat"
   ]
  },
  {
   "cell_type": "code",
   "execution_count": 6,
   "id": "36738e75-b548-4f22-8c03-2a2f1958fa71",
   "metadata": {},
   "outputs": [
    {
     "data": {
      "text/plain": [
       "2204.148397379139"
      ]
     },
     "execution_count": 6,
     "metadata": {},
     "output_type": "execute_result"
    }
   ],
   "source": [
    "avg_price_premium"
   ]
  },
  {
   "cell_type": "code",
   "execution_count": 7,
   "id": "cfe672d3-6ab2-4dff-ad6d-865b2709d551",
   "metadata": {},
   "outputs": [
    {
     "data": {
      "text/plain": [
       "2219.576609682058"
      ]
     },
     "execution_count": 7,
     "metadata": {},
     "output_type": "execute_result"
    }
   ],
   "source": [
    "avg_price_pop"
   ]
  },
  {
   "cell_type": "code",
   "execution_count": null,
   "id": "274fbceb-0262-4563-913b-0e71f68a65bc",
   "metadata": {},
   "outputs": [],
   "source": []
  },
  {
   "cell_type": "code",
   "execution_count": 30,
   "id": "6ebd34b2-1e39-48c0-967c-dfad5fef2f23",
   "metadata": {},
   "outputs": [
    {
     "name": "stdout",
     "output_type": "stream",
     "text": [
      "p-value: 3.9265661504779183\n",
      "Conclusion:  reject null hypothesis\n"
     ]
    },
    {
     "data": {
      "image/png": "[encoded data removed]",
      "text/plain": [
       "<Figure size 640x480 with 1 Axes>"
      ]
     },
     "metadata": {},
     "output_type": "display_data"
    }
   ],
   "source": [
    "#Task 3(b)\n",
    "\n",
    "import pandas as pd\n",
    "import math\n",
    "import numpy as np\n",
    "from scipy.stats import t\n",
    "import matplotlib.pyplot as plt\n",
    "\n",
    "\n",
    "df = pd.read_csv(\"DS1_C8_Computers_Data_Project (2).csv\")\n",
    "\n",
    "\n",
    "alpha = 0.05 / 2  #it is a two-tailed test\n",
    "\n",
    "\n",
    "df_premium = df[df['premium'] == 'yes']['price']\n",
    "df_non_premium = df[df['premium'] == 'no']['price']\n",
    "\n",
    "avg_price_premium = df_premium.mean()\n",
    "avg_price_non_premium = df_non_premium.mean()\n",
    "\n",
    "\n",
    "std_premium = df_premium.std()\n",
    "std_non_premium = df_non_premium.std()\n",
    "\n",
    "# Calculate the sample sizes\n",
    "n_premium = len(df_premium)\n",
    "n_non_premium = len(df_non_premium)\n",
    "\n",
    "#two different samople sizes \n",
    "# Calculate the standard error\n",
    "stat_dem = math.sqrt((std_premium ** 2 / n_premium) + (std_non_premium ** 2 / n_non_premium))\n",
    "\n",
    "# Calculate the t-statistic\n",
    "t_stat = (avg_price_premium - avg_price_non_premium) / stat_dem\n",
    "\n",
    "# Calculate the degrees of freedom\n",
    "\n",
    "dof_numerator = (std_premium ** 2 / n_premium + std_non_premium ** 2 / n_non_premium) ** 2\n",
    "\n",
    "dof_denominator = ((std_premium ** 2 / n_premium) ** 2) / (n_premium - 1) + ((std_non_premium ** 2 / n_non_premium) ** 2) / (n_non_premium - 1)\n",
    "\n",
    "dof=numerator/denominator\n",
    "\n",
    "\n",
    "# Calculate the p-value from the t-distribution\n",
    "p_value = t.ppf((1-alpha),dof) * 2\n",
    "\n",
    "# Draw conclusion\n",
    "print(\"p-value:\", p_value)\n",
    "print(\"Conclusion: Reject null hypothesis\" if p_value < alpha else \"Conclusion:  reject null hypothesis\")\n",
    "\n",
    "upper_value_with_premium = avg_price_premium + (4 * std_premium)\n",
    "\n",
    "lower_value_with_premium = avg_price_premium - (4 * std_premium)\n",
    "\n",
    "x = np.arange(lower_value_with_premium, upper_value_with_premium, 100)\n",
    "\n",
    "upper_value_without_premium = avg_price_non_premium + (4 * std_non_premium)\n",
    "\n",
    "lower_value_without_premium = avg_price_non_premium - (4 * std_non_premium)\n",
    "\n",
    "y = np.arange(lower_value_without_premium, upper_value_without_premium, 100)\n",
    "\n",
    "\n",
    "with_premium_t_value = t.pdf(x, 100)\n",
    "without_premium_t_value = t.pdf(y,100)\n",
    "\n",
    "# Plot the distributions\n",
    "plt.plot(x, with_premium_t_value, label='Premium')\n",
    "plt.plot(y, without_premium_t_value, label='Non-Premium')\n",
    "plt.title('t-distribution of Prices')\n",
    "plt.xlabel('Price')\n",
    "plt.ylabel('Probability Density')\n",
    "plt.legend()\n",
    "plt.show()\n",
    "\n",
    "\n",
    "\n"
   ]
  },
  {
   "cell_type": "code",
   "execution_count": 34,
   "id": "461eaf18-078d-47b1-a1e2-f8ad0b85d85d",
   "metadata": {},
   "outputs": [
    {
     "data": {
      "text/plain": [
       "612"
      ]
     },
     "execution_count": 34,
     "metadata": {},
     "output_type": "execute_result"
    }
   ],
   "source": []
  },
  {
   "cell_type": "code",
   "execution_count": 33,
   "id": "5a9ab4f2-e519-4644-af09-cba8b8d014ae",
   "metadata": {},
   "outputs": [
    {
     "data": {
      "text/plain": [
       "5647"
      ]
     },
     "execution_count": 33,
     "metadata": {},
     "output_type": "execute_result"
    }
   ],
   "source": []
  }
 ],
 "metadata": {
  "kernelspec": {
   "display_name": "Python 3 (ipykernel)",
   "language": "python",
   "name": "python3"
  },
  "language_info": {
   "codemirror_mode": {
    "name": "ipython",
    "version": 3
   },
   "file_extension": ".py",
   "mimetype": "text/x-python",
   "name": "python",
   "nbconvert_exporter": "python",
   "pygments_lexer": "ipython3",
   "version": "3.11.7"
  }
 },
 "nbformat": 4,
 "nbformat_minor": 5
}
